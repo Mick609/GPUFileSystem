{
 "cells": [
  {
   "cell_type": "code",
   "execution_count": 1,
   "metadata": {},
   "outputs": [
    {
     "data": {
      "text/plain": [
       "\"\\nfor fileName in files:\\n    filePath = directory + fileName\\n    im = Image.open(filePath)\\n    im = im.convert(mode='RGB', colors=256)\\n    size = 128, 128\\n    im = im.resize(size)\\n    im.save(optDir + str(count), format='JPEG')\\n    count += 1\\n\""
      ]
     },
     "execution_count": 1,
     "metadata": {},
     "output_type": "execute_result"
    }
   ],
   "source": [
    "from os import listdir\n",
    "from os.path import isfile, join\n",
    "from PIL import Image\n",
    "\n",
    "directory = '/home/mick/Downloads/test2017-20201117T095244Z-001/test2017/'\n",
    "optDir = '/home/mick/Desktop/gpufilesystem/dataset/'\n",
    "\n",
    "files = [f for f in listdir(directory) if isfile(join(directory, f))]\n",
    "count = 0\n",
    "'''\n",
    "for fileName in files:\n",
    "    filePath = directory + fileName\n",
    "    im = Image.open(filePath)\n",
    "    im = im.convert(mode='RGB', colors=256)\n",
    "    size = 128, 128\n",
    "    im = im.resize(size)\n",
    "    im.save(optDir + str(count), format='JPEG')\n",
    "    count += 1\n",
    "'''"
   ]
  },
  {
   "cell_type": "code",
   "execution_count": 2,
   "metadata": {},
   "outputs": [
    {
     "name": "stdout",
     "output_type": "stream",
     "text": [
      "Start Time : 20:09:57\n",
      "................................................................................................................................................................................................................................................................................................................................................................................................................................................................................................................................................................................................................................................................................................................................................................................................................................................................................................................................................................................................................................................................Finish Time : 20:30:21\n",
      "Processing used (s):  1224.7025804519653\n"
     ]
    }
   ],
   "source": [
    "from PIL import Image, ImageDraw,ImageChops\n",
    "import numpy as np\n",
    "from os import listdir\n",
    "from os.path import isfile, join\n",
    "import time\n",
    "from datetime import datetime\n",
    "\n",
    "def crop(input, height, width):\n",
    "    opt = []\n",
    "    k = 0\n",
    "    im = input\n",
    "    imgwidth, imgheight = im.size\n",
    "    for i in range(0,imgheight,height):\n",
    "        for j in range(0,imgwidth,width):\n",
    "            box = (j, i, j+width, i+height)\n",
    "            draw = ImageDraw.Draw(im)\n",
    "            draw.rectangle(box)\n",
    "            a = im.crop(box)\n",
    "            a.save(optDir + str(k) + '.jpg')\n",
    "            k+=1\n",
    "            opt.append(a)\n",
    "    im.show()\n",
    "    return opt\n",
    "\n",
    "def get_concat_v_multi_resize(im_list, resample=Image.BICUBIC):\n",
    "    min_width = min(im.width for im in im_list)\n",
    "    im_list_resize = [im.resize((min_width, int(im.height * min_width / im.width)),resample=resample)\n",
    "                      for im in im_list]\n",
    "    total_height = sum(im.height for im in im_list_resize)\n",
    "    dst = Image.new('RGB', (min_width, total_height))\n",
    "    pos_y = 0\n",
    "    for im in im_list_resize:\n",
    "        dst.paste(im, (0, pos_y))\n",
    "        pos_y += im.height\n",
    "    return dst\n",
    "\n",
    "def get_concat_h_multi_resize(im_list, resample=Image.BICUBIC):\n",
    "    min_height = min(im.height for im in im_list)\n",
    "    im_list_resize = [im.resize((int(im.width * min_height / im.height), min_height),resample=resample)\n",
    "                      for im in im_list]\n",
    "    total_width = sum(im.width for im in im_list_resize)\n",
    "    dst = Image.new('RGB', (total_width, min_height))\n",
    "    pos_x = 0\n",
    "    for im in im_list_resize:\n",
    "        dst.paste(im, (pos_x, 0))\n",
    "        pos_x += im.width\n",
    "    return dst\n",
    "\n",
    "def get_concat_tile_resize(im_list_2d, resample=Image.BICUBIC):\n",
    "    im_list_v = [get_concat_h_multi_resize(im_list_h, resample=resample) for im_list_h in im_list_2d]\n",
    "    return get_concat_v_multi_resize(im_list_v, resample=resample)\n",
    "\n",
    "start = time.time()\n",
    "now = datetime.now()\n",
    "current_time = now.strftime(\"%H:%M:%S\")\n",
    "print(\"Start Time :\", current_time)\n",
    "\n",
    "dataDir = '/home/mick/Desktop/gpufilesystem/dataset/'\n",
    "optDir = '/home/mick/Desktop/gpufilesystem/examples/CPU/opt/'\n",
    "files = [f for f in listdir(optDir) if isfile(join(optDir, f))]\n",
    "for file in files:\n",
    "    import os\n",
    "    os.remove(optDir + file)\n",
    "\n",
    "files = [f for f in listdir(dataDir) if isfile(join(dataDir, f))]\n",
    "im = Image.open(dataDir + '4')\n",
    "im = im.resize((1024,1024))\n",
    "\n",
    "#has to be power of 2\n",
    "dim = (32, 32, 3)\n",
    "\n",
    "matrix_width = int(im.size[0] / dim[0])\n",
    "matrix_height = int(im.size[1] / dim[1])\n",
    "\n",
    "image_segments = crop(im, matrix_width, matrix_height)\n",
    "\n",
    "vertical = []\n",
    "for x in range(dim[0]):\n",
    "    horizontal = []\n",
    "    for y in range(dim[1]):\n",
    "        target_index = x * dim[0] + y\n",
    "        #print(x,y,target_index, end = ', ')\n",
    "        print('.', end = '')\n",
    "        diff_list = []\n",
    "        target = Image.open(optDir + str(target_index) + '.jpg')\n",
    "        #target.show()\n",
    "        for file_index in range(len(files)):\n",
    "            candidate = Image.open(dataDir + files[file_index]).resize(target.size)\n",
    "            diff = ImageChops.difference(target, candidate)\n",
    "            array = np.array(diff)\n",
    "            diff_list.append(array.mean())\n",
    "        path = dataDir + files[diff_list.index(min(diff_list))]\n",
    "        result = Image.open(path)\n",
    "        horizontal.append(result)\n",
    "    vertical.append(horizontal)\n",
    "opt_img = get_concat_tile_resize(vertical)\n",
    "opt_img = opt_img.resize((1024,1024))\n",
    "opt_img.save('opt.jpg')\n",
    "opt_img.show()\n",
    "\n",
    "done = time.time()\n",
    "now = datetime.now()\n",
    "current_time = now.strftime(\"%H:%M:%S\")\n",
    "print(\"Finish Time :\", current_time)\n",
    "elapsed = done - start\n",
    "print('Processing used (s): ', elapsed)"
   ]
  },
  {
   "cell_type": "code",
   "execution_count": null,
   "metadata": {},
   "outputs": [],
   "source": []
  },
  {
   "cell_type": "code",
   "execution_count": null,
   "metadata": {},
   "outputs": [],
   "source": []
  },
  {
   "cell_type": "code",
   "execution_count": null,
   "metadata": {},
   "outputs": [],
   "source": []
  }
 ],
 "metadata": {
  "kernelspec": {
   "display_name": "Python 3",
   "language": "python",
   "name": "python3"
  },
  "language_info": {
   "codemirror_mode": {
    "name": "ipython",
    "version": 3
   },
   "file_extension": ".py",
   "mimetype": "text/x-python",
   "name": "python",
   "nbconvert_exporter": "python",
   "pygments_lexer": "ipython3",
   "version": "3.7.6"
  }
 },
 "nbformat": 4,
 "nbformat_minor": 4
}
